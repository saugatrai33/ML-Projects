{
  "nbformat": 4,
  "nbformat_minor": 0,
  "metadata": {
    "colab": {
      "name": "Nepal Municipality Finder.ipynb",
      "provenance": [],
      "authorship_tag": "ABX9TyOYfpqp2ijvkhTqvCcEllEZ",
      "include_colab_link": true
    },
    "kernelspec": {
      "name": "python3",
      "display_name": "Python 3"
    },
    "language_info": {
      "name": "python"
    }
  },
  "cells": [
    {
      "cell_type": "markdown",
      "metadata": {
        "id": "view-in-github",
        "colab_type": "text"
      },
      "source": [
        "<a href=\"https://colab.research.google.com/github/saugatrai33/ML-Projects/blob/main/Nepal_Municipality_Finder.ipynb\" target=\"_parent\"><img src=\"https://colab.research.google.com/assets/colab-badge.svg\" alt=\"Open In Colab\"/></a>"
      ]
    },
    {
      "cell_type": "markdown",
      "source": [
        "# Dependency Installation"
      ],
      "metadata": {
        "id": "GmZCAhOsOlXf"
      }
    },
    {
      "cell_type": "code",
      "execution_count": 1,
      "metadata": {
        "colab": {
          "base_uri": "https://localhost:8080/"
        },
        "id": "jg1I-HB-_B3R",
        "outputId": "941e86c6-a4dd-4a31-bb83-26461e62d3a1"
      },
      "outputs": [
        {
          "output_type": "stream",
          "name": "stdout",
          "text": [
            "Collecting geopandas\n",
            "  Downloading geopandas-0.10.2-py2.py3-none-any.whl (1.0 MB)\n",
            "\u001b[?25l\r\u001b[K     |▎                               | 10 kB 27.9 MB/s eta 0:00:01\r\u001b[K     |▋                               | 20 kB 13.9 MB/s eta 0:00:01\r\u001b[K     |█                               | 30 kB 10.2 MB/s eta 0:00:01\r\u001b[K     |█▎                              | 40 kB 4.8 MB/s eta 0:00:01\r\u001b[K     |█▋                              | 51 kB 4.7 MB/s eta 0:00:01\r\u001b[K     |██                              | 61 kB 5.4 MB/s eta 0:00:01\r\u001b[K     |██▎                             | 71 kB 6.0 MB/s eta 0:00:01\r\u001b[K     |██▌                             | 81 kB 5.6 MB/s eta 0:00:01\r\u001b[K     |██▉                             | 92 kB 6.2 MB/s eta 0:00:01\r\u001b[K     |███▏                            | 102 kB 5.4 MB/s eta 0:00:01\r\u001b[K     |███▌                            | 112 kB 5.4 MB/s eta 0:00:01\r\u001b[K     |███▉                            | 122 kB 5.4 MB/s eta 0:00:01\r\u001b[K     |████▏                           | 133 kB 5.4 MB/s eta 0:00:01\r\u001b[K     |████▌                           | 143 kB 5.4 MB/s eta 0:00:01\r\u001b[K     |████▊                           | 153 kB 5.4 MB/s eta 0:00:01\r\u001b[K     |█████                           | 163 kB 5.4 MB/s eta 0:00:01\r\u001b[K     |█████▍                          | 174 kB 5.4 MB/s eta 0:00:01\r\u001b[K     |█████▊                          | 184 kB 5.4 MB/s eta 0:00:01\r\u001b[K     |██████                          | 194 kB 5.4 MB/s eta 0:00:01\r\u001b[K     |██████▍                         | 204 kB 5.4 MB/s eta 0:00:01\r\u001b[K     |██████▊                         | 215 kB 5.4 MB/s eta 0:00:01\r\u001b[K     |███████                         | 225 kB 5.4 MB/s eta 0:00:01\r\u001b[K     |███████▎                        | 235 kB 5.4 MB/s eta 0:00:01\r\u001b[K     |███████▋                        | 245 kB 5.4 MB/s eta 0:00:01\r\u001b[K     |████████                        | 256 kB 5.4 MB/s eta 0:00:01\r\u001b[K     |████████▎                       | 266 kB 5.4 MB/s eta 0:00:01\r\u001b[K     |████████▋                       | 276 kB 5.4 MB/s eta 0:00:01\r\u001b[K     |█████████                       | 286 kB 5.4 MB/s eta 0:00:01\r\u001b[K     |█████████▏                      | 296 kB 5.4 MB/s eta 0:00:01\r\u001b[K     |█████████▌                      | 307 kB 5.4 MB/s eta 0:00:01\r\u001b[K     |█████████▉                      | 317 kB 5.4 MB/s eta 0:00:01\r\u001b[K     |██████████▏                     | 327 kB 5.4 MB/s eta 0:00:01\r\u001b[K     |██████████▌                     | 337 kB 5.4 MB/s eta 0:00:01\r\u001b[K     |██████████▉                     | 348 kB 5.4 MB/s eta 0:00:01\r\u001b[K     |███████████▏                    | 358 kB 5.4 MB/s eta 0:00:01\r\u001b[K     |███████████▍                    | 368 kB 5.4 MB/s eta 0:00:01\r\u001b[K     |███████████▊                    | 378 kB 5.4 MB/s eta 0:00:01\r\u001b[K     |████████████                    | 389 kB 5.4 MB/s eta 0:00:01\r\u001b[K     |████████████▍                   | 399 kB 5.4 MB/s eta 0:00:01\r\u001b[K     |████████████▊                   | 409 kB 5.4 MB/s eta 0:00:01\r\u001b[K     |█████████████                   | 419 kB 5.4 MB/s eta 0:00:01\r\u001b[K     |█████████████▍                  | 430 kB 5.4 MB/s eta 0:00:01\r\u001b[K     |█████████████▋                  | 440 kB 5.4 MB/s eta 0:00:01\r\u001b[K     |██████████████                  | 450 kB 5.4 MB/s eta 0:00:01\r\u001b[K     |██████████████▎                 | 460 kB 5.4 MB/s eta 0:00:01\r\u001b[K     |██████████████▋                 | 471 kB 5.4 MB/s eta 0:00:01\r\u001b[K     |███████████████                 | 481 kB 5.4 MB/s eta 0:00:01\r\u001b[K     |███████████████▎                | 491 kB 5.4 MB/s eta 0:00:01\r\u001b[K     |███████████████▋                | 501 kB 5.4 MB/s eta 0:00:01\r\u001b[K     |███████████████▉                | 512 kB 5.4 MB/s eta 0:00:01\r\u001b[K     |████████████████▏               | 522 kB 5.4 MB/s eta 0:00:01\r\u001b[K     |████████████████▌               | 532 kB 5.4 MB/s eta 0:00:01\r\u001b[K     |████████████████▉               | 542 kB 5.4 MB/s eta 0:00:01\r\u001b[K     |█████████████████▏              | 552 kB 5.4 MB/s eta 0:00:01\r\u001b[K     |█████████████████▌              | 563 kB 5.4 MB/s eta 0:00:01\r\u001b[K     |█████████████████▉              | 573 kB 5.4 MB/s eta 0:00:01\r\u001b[K     |██████████████████              | 583 kB 5.4 MB/s eta 0:00:01\r\u001b[K     |██████████████████▍             | 593 kB 5.4 MB/s eta 0:00:01\r\u001b[K     |██████████████████▊             | 604 kB 5.4 MB/s eta 0:00:01\r\u001b[K     |███████████████████             | 614 kB 5.4 MB/s eta 0:00:01\r\u001b[K     |███████████████████▍            | 624 kB 5.4 MB/s eta 0:00:01\r\u001b[K     |███████████████████▊            | 634 kB 5.4 MB/s eta 0:00:01\r\u001b[K     |████████████████████            | 645 kB 5.4 MB/s eta 0:00:01\r\u001b[K     |████████████████████▎           | 655 kB 5.4 MB/s eta 0:00:01\r\u001b[K     |████████████████████▋           | 665 kB 5.4 MB/s eta 0:00:01\r\u001b[K     |█████████████████████           | 675 kB 5.4 MB/s eta 0:00:01\r\u001b[K     |█████████████████████▎          | 686 kB 5.4 MB/s eta 0:00:01\r\u001b[K     |█████████████████████▋          | 696 kB 5.4 MB/s eta 0:00:01\r\u001b[K     |██████████████████████          | 706 kB 5.4 MB/s eta 0:00:01\r\u001b[K     |██████████████████████▎         | 716 kB 5.4 MB/s eta 0:00:01\r\u001b[K     |██████████████████████▋         | 727 kB 5.4 MB/s eta 0:00:01\r\u001b[K     |██████████████████████▉         | 737 kB 5.4 MB/s eta 0:00:01\r\u001b[K     |███████████████████████▏        | 747 kB 5.4 MB/s eta 0:00:01\r\u001b[K     |███████████████████████▌        | 757 kB 5.4 MB/s eta 0:00:01\r\u001b[K     |███████████████████████▉        | 768 kB 5.4 MB/s eta 0:00:01\r\u001b[K     |████████████████████████▏       | 778 kB 5.4 MB/s eta 0:00:01\r\u001b[K     |████████████████████████▌       | 788 kB 5.4 MB/s eta 0:00:01\r\u001b[K     |████████████████████████▉       | 798 kB 5.4 MB/s eta 0:00:01\r\u001b[K     |█████████████████████████       | 808 kB 5.4 MB/s eta 0:00:01\r\u001b[K     |█████████████████████████▍      | 819 kB 5.4 MB/s eta 0:00:01\r\u001b[K     |█████████████████████████▊      | 829 kB 5.4 MB/s eta 0:00:01\r\u001b[K     |██████████████████████████      | 839 kB 5.4 MB/s eta 0:00:01\r\u001b[K     |██████████████████████████▍     | 849 kB 5.4 MB/s eta 0:00:01\r\u001b[K     |██████████████████████████▊     | 860 kB 5.4 MB/s eta 0:00:01\r\u001b[K     |███████████████████████████     | 870 kB 5.4 MB/s eta 0:00:01\r\u001b[K     |███████████████████████████▎    | 880 kB 5.4 MB/s eta 0:00:01\r\u001b[K     |███████████████████████████▋    | 890 kB 5.4 MB/s eta 0:00:01\r\u001b[K     |████████████████████████████    | 901 kB 5.4 MB/s eta 0:00:01\r\u001b[K     |████████████████████████████▎   | 911 kB 5.4 MB/s eta 0:00:01\r\u001b[K     |████████████████████████████▋   | 921 kB 5.4 MB/s eta 0:00:01\r\u001b[K     |█████████████████████████████   | 931 kB 5.4 MB/s eta 0:00:01\r\u001b[K     |█████████████████████████████▎  | 942 kB 5.4 MB/s eta 0:00:01\r\u001b[K     |█████████████████████████████▌  | 952 kB 5.4 MB/s eta 0:00:01\r\u001b[K     |█████████████████████████████▉  | 962 kB 5.4 MB/s eta 0:00:01\r\u001b[K     |██████████████████████████████▏ | 972 kB 5.4 MB/s eta 0:00:01\r\u001b[K     |██████████████████████████████▌ | 983 kB 5.4 MB/s eta 0:00:01\r\u001b[K     |██████████████████████████████▉ | 993 kB 5.4 MB/s eta 0:00:01\r\u001b[K     |███████████████████████████████▏| 1.0 MB 5.4 MB/s eta 0:00:01\r\u001b[K     |███████████████████████████████▌| 1.0 MB 5.4 MB/s eta 0:00:01\r\u001b[K     |███████████████████████████████▊| 1.0 MB 5.4 MB/s eta 0:00:01\r\u001b[K     |████████████████████████████████| 1.0 MB 5.4 MB/s \n",
            "\u001b[?25hRequirement already satisfied: shapely>=1.6 in /usr/local/lib/python3.7/dist-packages (from geopandas) (1.8.1.post1)\n",
            "Requirement already satisfied: pandas>=0.25.0 in /usr/local/lib/python3.7/dist-packages (from geopandas) (1.3.5)\n",
            "Collecting fiona>=1.8\n",
            "  Downloading Fiona-1.8.21-cp37-cp37m-manylinux2014_x86_64.whl (16.7 MB)\n",
            "\u001b[K     |████████████████████████████████| 16.7 MB 31.0 MB/s \n",
            "\u001b[?25hCollecting pyproj>=2.2.0\n",
            "  Downloading pyproj-3.2.1-cp37-cp37m-manylinux2010_x86_64.whl (6.3 MB)\n",
            "\u001b[K     |████████████████████████████████| 6.3 MB 22.7 MB/s \n",
            "\u001b[?25hCollecting click-plugins>=1.0\n",
            "  Downloading click_plugins-1.1.1-py2.py3-none-any.whl (7.5 kB)\n",
            "Collecting munch\n",
            "  Downloading munch-2.5.0-py2.py3-none-any.whl (10 kB)\n",
            "Requirement already satisfied: setuptools in /usr/local/lib/python3.7/dist-packages (from fiona>=1.8->geopandas) (57.4.0)\n",
            "Requirement already satisfied: attrs>=17 in /usr/local/lib/python3.7/dist-packages (from fiona>=1.8->geopandas) (21.4.0)\n",
            "Requirement already satisfied: six>=1.7 in /usr/local/lib/python3.7/dist-packages (from fiona>=1.8->geopandas) (1.15.0)\n",
            "Requirement already satisfied: click>=4.0 in /usr/local/lib/python3.7/dist-packages (from fiona>=1.8->geopandas) (7.1.2)\n",
            "Requirement already satisfied: certifi in /usr/local/lib/python3.7/dist-packages (from fiona>=1.8->geopandas) (2021.10.8)\n",
            "Collecting cligj>=0.5\n",
            "  Downloading cligj-0.7.2-py3-none-any.whl (7.1 kB)\n",
            "Requirement already satisfied: numpy>=1.17.3 in /usr/local/lib/python3.7/dist-packages (from pandas>=0.25.0->geopandas) (1.21.5)\n",
            "Requirement already satisfied: python-dateutil>=2.7.3 in /usr/local/lib/python3.7/dist-packages (from pandas>=0.25.0->geopandas) (2.8.2)\n",
            "Requirement already satisfied: pytz>=2017.3 in /usr/local/lib/python3.7/dist-packages (from pandas>=0.25.0->geopandas) (2018.9)\n",
            "Installing collected packages: munch, cligj, click-plugins, pyproj, fiona, geopandas\n",
            "Successfully installed click-plugins-1.1.1 cligj-0.7.2 fiona-1.8.21 geopandas-0.10.2 munch-2.5.0 pyproj-3.2.1\n",
            "CPU times: user 99.1 ms, sys: 26.8 ms, total: 126 ms\n",
            "Wall time: 7.4 s\n"
          ]
        }
      ],
      "source": [
        "%%time \n",
        "\n",
        "!pip install geopandas"
      ]
    },
    {
      "cell_type": "markdown",
      "source": [
        "## Import dependencies"
      ],
      "metadata": {
        "id": "yDA301CdOtfQ"
      }
    },
    {
      "cell_type": "code",
      "source": [
        "import geopandas as gpd\n",
        "from shapely.geometry import Point\n",
        "from shapely.geometry.polygon import Polygon"
      ],
      "metadata": {
        "id": "TX4aN-2AAzpu"
      },
      "execution_count": 2,
      "outputs": []
    },
    {
      "cell_type": "markdown",
      "source": [
        "## Read geojson data from github raw"
      ],
      "metadata": {
        "id": "Cpp0zhT3Oxzx"
      }
    },
    {
      "cell_type": "code",
      "source": [
        "munis = gpd.read_file('https://raw.githubusercontent.com/mesaugat/geoJSON-Nepal/master/nepal-municipalities.geojson')\n",
        "munis.head()"
      ],
      "metadata": {
        "colab": {
          "base_uri": "https://localhost:8080/",
          "height": 206
        },
        "id": "x0rIqkssBEfA",
        "outputId": "a5160162-ff19-46bd-8f00-25f5b27c6c3b"
      },
      "execution_count": 3,
      "outputs": [
        {
          "output_type": "execute_result",
          "data": {
            "text/html": [
              "\n",
              "  <div id=\"df-da802e7e-f3a4-49a6-9d87-14435c743e57\">\n",
              "    <div class=\"colab-df-container\">\n",
              "      <div>\n",
              "<style scoped>\n",
              "    .dataframe tbody tr th:only-of-type {\n",
              "        vertical-align: middle;\n",
              "    }\n",
              "\n",
              "    .dataframe tbody tr th {\n",
              "        vertical-align: top;\n",
              "    }\n",
              "\n",
              "    .dataframe thead th {\n",
              "        text-align: right;\n",
              "    }\n",
              "</style>\n",
              "<table border=\"1\" class=\"dataframe\">\n",
              "  <thead>\n",
              "    <tr style=\"text-align: right;\">\n",
              "      <th></th>\n",
              "      <th>id</th>\n",
              "      <th>F_ID</th>\n",
              "      <th>N_ID</th>\n",
              "      <th>NAME</th>\n",
              "      <th>LEVEL</th>\n",
              "      <th>DISTRICT</th>\n",
              "      <th>geometry</th>\n",
              "    </tr>\n",
              "  </thead>\n",
              "  <tbody>\n",
              "    <tr>\n",
              "      <th>0</th>\n",
              "      <td>None</td>\n",
              "      <td>104</td>\n",
              "      <td>bhaktapur-bhaktapur</td>\n",
              "      <td>Bhaktapur</td>\n",
              "      <td>Nagarpalika</td>\n",
              "      <td>Bhaktapur</td>\n",
              "      <td>POLYGON ((85.44459 27.66441, 85.44378 27.66359...</td>\n",
              "    </tr>\n",
              "    <tr>\n",
              "      <th>1</th>\n",
              "      <td>None</td>\n",
              "      <td>105</td>\n",
              "      <td>madhyapur -thimi-bhaktap</td>\n",
              "      <td>Madhyapur Thimi</td>\n",
              "      <td>Nagarpalika</td>\n",
              "      <td>Bhaktapur</td>\n",
              "      <td>POLYGON ((85.36314 27.66892, 85.35419 27.66769...</td>\n",
              "    </tr>\n",
              "    <tr>\n",
              "      <th>2</th>\n",
              "      <td>None</td>\n",
              "      <td>343</td>\n",
              "      <td>kathmandu-kathmandu</td>\n",
              "      <td>Kathmandu</td>\n",
              "      <td>Mahanagarpalika</td>\n",
              "      <td>Kathmandu</td>\n",
              "      <td>POLYGON ((85.28577 27.68983, 85.28414 27.69270...</td>\n",
              "    </tr>\n",
              "    <tr>\n",
              "      <th>3</th>\n",
              "      <td>None</td>\n",
              "      <td>344</td>\n",
              "      <td>kirtipur-kathmandu</td>\n",
              "      <td>Kirtipur</td>\n",
              "      <td>Nagarpalika</td>\n",
              "      <td>Kathmandu</td>\n",
              "      <td>POLYGON ((85.25319 27.64555, 85.25238 27.65416...</td>\n",
              "    </tr>\n",
              "    <tr>\n",
              "      <th>4</th>\n",
              "      <td>None</td>\n",
              "      <td>396</td>\n",
              "      <td>chitwan -national -park-</td>\n",
              "      <td>Chitwan National Park</td>\n",
              "      <td>national-park</td>\n",
              "      <td>Makwanpur</td>\n",
              "      <td>POLYGON ((84.71727 27.56355, 84.71727 27.55945...</td>\n",
              "    </tr>\n",
              "  </tbody>\n",
              "</table>\n",
              "</div>\n",
              "      <button class=\"colab-df-convert\" onclick=\"convertToInteractive('df-da802e7e-f3a4-49a6-9d87-14435c743e57')\"\n",
              "              title=\"Convert this dataframe to an interactive table.\"\n",
              "              style=\"display:none;\">\n",
              "        \n",
              "  <svg xmlns=\"http://www.w3.org/2000/svg\" height=\"24px\"viewBox=\"0 0 24 24\"\n",
              "       width=\"24px\">\n",
              "    <path d=\"M0 0h24v24H0V0z\" fill=\"none\"/>\n",
              "    <path d=\"M18.56 5.44l.94 2.06.94-2.06 2.06-.94-2.06-.94-.94-2.06-.94 2.06-2.06.94zm-11 1L8.5 8.5l.94-2.06 2.06-.94-2.06-.94L8.5 2.5l-.94 2.06-2.06.94zm10 10l.94 2.06.94-2.06 2.06-.94-2.06-.94-.94-2.06-.94 2.06-2.06.94z\"/><path d=\"M17.41 7.96l-1.37-1.37c-.4-.4-.92-.59-1.43-.59-.52 0-1.04.2-1.43.59L10.3 9.45l-7.72 7.72c-.78.78-.78 2.05 0 2.83L4 21.41c.39.39.9.59 1.41.59.51 0 1.02-.2 1.41-.59l7.78-7.78 2.81-2.81c.8-.78.8-2.07 0-2.86zM5.41 20L4 18.59l7.72-7.72 1.47 1.35L5.41 20z\"/>\n",
              "  </svg>\n",
              "      </button>\n",
              "      \n",
              "  <style>\n",
              "    .colab-df-container {\n",
              "      display:flex;\n",
              "      flex-wrap:wrap;\n",
              "      gap: 12px;\n",
              "    }\n",
              "\n",
              "    .colab-df-convert {\n",
              "      background-color: #E8F0FE;\n",
              "      border: none;\n",
              "      border-radius: 50%;\n",
              "      cursor: pointer;\n",
              "      display: none;\n",
              "      fill: #1967D2;\n",
              "      height: 32px;\n",
              "      padding: 0 0 0 0;\n",
              "      width: 32px;\n",
              "    }\n",
              "\n",
              "    .colab-df-convert:hover {\n",
              "      background-color: #E2EBFA;\n",
              "      box-shadow: 0px 1px 2px rgba(60, 64, 67, 0.3), 0px 1px 3px 1px rgba(60, 64, 67, 0.15);\n",
              "      fill: #174EA6;\n",
              "    }\n",
              "\n",
              "    [theme=dark] .colab-df-convert {\n",
              "      background-color: #3B4455;\n",
              "      fill: #D2E3FC;\n",
              "    }\n",
              "\n",
              "    [theme=dark] .colab-df-convert:hover {\n",
              "      background-color: #434B5C;\n",
              "      box-shadow: 0px 1px 3px 1px rgba(0, 0, 0, 0.15);\n",
              "      filter: drop-shadow(0px 1px 2px rgba(0, 0, 0, 0.3));\n",
              "      fill: #FFFFFF;\n",
              "    }\n",
              "  </style>\n",
              "\n",
              "      <script>\n",
              "        const buttonEl =\n",
              "          document.querySelector('#df-da802e7e-f3a4-49a6-9d87-14435c743e57 button.colab-df-convert');\n",
              "        buttonEl.style.display =\n",
              "          google.colab.kernel.accessAllowed ? 'block' : 'none';\n",
              "\n",
              "        async function convertToInteractive(key) {\n",
              "          const element = document.querySelector('#df-da802e7e-f3a4-49a6-9d87-14435c743e57');\n",
              "          const dataTable =\n",
              "            await google.colab.kernel.invokeFunction('convertToInteractive',\n",
              "                                                     [key], {});\n",
              "          if (!dataTable) return;\n",
              "\n",
              "          const docLinkHtml = 'Like what you see? Visit the ' +\n",
              "            '<a target=\"_blank\" href=https://colab.research.google.com/notebooks/data_table.ipynb>data table notebook</a>'\n",
              "            + ' to learn more about interactive tables.';\n",
              "          element.innerHTML = '';\n",
              "          dataTable['output_type'] = 'display_data';\n",
              "          await google.colab.output.renderOutput(dataTable, element);\n",
              "          const docLink = document.createElement('div');\n",
              "          docLink.innerHTML = docLinkHtml;\n",
              "          element.appendChild(docLink);\n",
              "        }\n",
              "      </script>\n",
              "    </div>\n",
              "  </div>\n",
              "  "
            ],
            "text/plain": [
              "     id  F_ID                      N_ID                   NAME  \\\n",
              "0  None   104       bhaktapur-bhaktapur              Bhaktapur   \n",
              "1  None   105  madhyapur -thimi-bhaktap        Madhyapur Thimi   \n",
              "2  None   343       kathmandu-kathmandu              Kathmandu   \n",
              "3  None   344        kirtipur-kathmandu               Kirtipur   \n",
              "4  None   396  chitwan -national -park-  Chitwan National Park   \n",
              "\n",
              "             LEVEL   DISTRICT  \\\n",
              "0      Nagarpalika  Bhaktapur   \n",
              "1      Nagarpalika  Bhaktapur   \n",
              "2  Mahanagarpalika  Kathmandu   \n",
              "3      Nagarpalika  Kathmandu   \n",
              "4    national-park  Makwanpur   \n",
              "\n",
              "                                            geometry  \n",
              "0  POLYGON ((85.44459 27.66441, 85.44378 27.66359...  \n",
              "1  POLYGON ((85.36314 27.66892, 85.35419 27.66769...  \n",
              "2  POLYGON ((85.28577 27.68983, 85.28414 27.69270...  \n",
              "3  POLYGON ((85.25319 27.64555, 85.25238 27.65416...  \n",
              "4  POLYGON ((84.71727 27.56355, 84.71727 27.55945...  "
            ]
          },
          "metadata": {},
          "execution_count": 3
        }
      ]
    },
    {
      "cell_type": "code",
      "source": [
        "munis.shape"
      ],
      "metadata": {
        "colab": {
          "base_uri": "https://localhost:8080/"
        },
        "id": "EqKYCwYkC7G4",
        "outputId": "3f9cb89a-5c59-4e72-aa0f-06d8eb2a06e2"
      },
      "execution_count": 4,
      "outputs": [
        {
          "output_type": "execute_result",
          "data": {
            "text/plain": [
              "(766, 7)"
            ]
          },
          "metadata": {},
          "execution_count": 4
        }
      ]
    },
    {
      "cell_type": "code",
      "source": [
        "munis.describe()"
      ],
      "metadata": {
        "colab": {
          "base_uri": "https://localhost:8080/",
          "height": 300
        },
        "id": "X-K5rPyaE7Vh",
        "outputId": "cb5a9ddf-20c5-4e7e-d675-20dfb7ba5f99"
      },
      "execution_count": 5,
      "outputs": [
        {
          "output_type": "execute_result",
          "data": {
            "text/html": [
              "\n",
              "  <div id=\"df-dca6355e-8b9b-4344-9d56-7fa8ea720efa\">\n",
              "    <div class=\"colab-df-container\">\n",
              "      <div>\n",
              "<style scoped>\n",
              "    .dataframe tbody tr th:only-of-type {\n",
              "        vertical-align: middle;\n",
              "    }\n",
              "\n",
              "    .dataframe tbody tr th {\n",
              "        vertical-align: top;\n",
              "    }\n",
              "\n",
              "    .dataframe thead th {\n",
              "        text-align: right;\n",
              "    }\n",
              "</style>\n",
              "<table border=\"1\" class=\"dataframe\">\n",
              "  <thead>\n",
              "    <tr style=\"text-align: right;\">\n",
              "      <th></th>\n",
              "      <th>F_ID</th>\n",
              "    </tr>\n",
              "  </thead>\n",
              "  <tbody>\n",
              "    <tr>\n",
              "      <th>count</th>\n",
              "      <td>766.000000</td>\n",
              "    </tr>\n",
              "    <tr>\n",
              "      <th>mean</th>\n",
              "      <td>381.873368</td>\n",
              "    </tr>\n",
              "    <tr>\n",
              "      <th>std</th>\n",
              "      <td>219.031358</td>\n",
              "    </tr>\n",
              "    <tr>\n",
              "      <th>min</th>\n",
              "      <td>1.000000</td>\n",
              "    </tr>\n",
              "    <tr>\n",
              "      <th>25%</th>\n",
              "      <td>192.250000</td>\n",
              "    </tr>\n",
              "    <tr>\n",
              "      <th>50%</th>\n",
              "      <td>383.500000</td>\n",
              "    </tr>\n",
              "    <tr>\n",
              "      <th>75%</th>\n",
              "      <td>572.750000</td>\n",
              "    </tr>\n",
              "    <tr>\n",
              "      <th>max</th>\n",
              "      <td>756.000000</td>\n",
              "    </tr>\n",
              "  </tbody>\n",
              "</table>\n",
              "</div>\n",
              "      <button class=\"colab-df-convert\" onclick=\"convertToInteractive('df-dca6355e-8b9b-4344-9d56-7fa8ea720efa')\"\n",
              "              title=\"Convert this dataframe to an interactive table.\"\n",
              "              style=\"display:none;\">\n",
              "        \n",
              "  <svg xmlns=\"http://www.w3.org/2000/svg\" height=\"24px\"viewBox=\"0 0 24 24\"\n",
              "       width=\"24px\">\n",
              "    <path d=\"M0 0h24v24H0V0z\" fill=\"none\"/>\n",
              "    <path d=\"M18.56 5.44l.94 2.06.94-2.06 2.06-.94-2.06-.94-.94-2.06-.94 2.06-2.06.94zm-11 1L8.5 8.5l.94-2.06 2.06-.94-2.06-.94L8.5 2.5l-.94 2.06-2.06.94zm10 10l.94 2.06.94-2.06 2.06-.94-2.06-.94-.94-2.06-.94 2.06-2.06.94z\"/><path d=\"M17.41 7.96l-1.37-1.37c-.4-.4-.92-.59-1.43-.59-.52 0-1.04.2-1.43.59L10.3 9.45l-7.72 7.72c-.78.78-.78 2.05 0 2.83L4 21.41c.39.39.9.59 1.41.59.51 0 1.02-.2 1.41-.59l7.78-7.78 2.81-2.81c.8-.78.8-2.07 0-2.86zM5.41 20L4 18.59l7.72-7.72 1.47 1.35L5.41 20z\"/>\n",
              "  </svg>\n",
              "      </button>\n",
              "      \n",
              "  <style>\n",
              "    .colab-df-container {\n",
              "      display:flex;\n",
              "      flex-wrap:wrap;\n",
              "      gap: 12px;\n",
              "    }\n",
              "\n",
              "    .colab-df-convert {\n",
              "      background-color: #E8F0FE;\n",
              "      border: none;\n",
              "      border-radius: 50%;\n",
              "      cursor: pointer;\n",
              "      display: none;\n",
              "      fill: #1967D2;\n",
              "      height: 32px;\n",
              "      padding: 0 0 0 0;\n",
              "      width: 32px;\n",
              "    }\n",
              "\n",
              "    .colab-df-convert:hover {\n",
              "      background-color: #E2EBFA;\n",
              "      box-shadow: 0px 1px 2px rgba(60, 64, 67, 0.3), 0px 1px 3px 1px rgba(60, 64, 67, 0.15);\n",
              "      fill: #174EA6;\n",
              "    }\n",
              "\n",
              "    [theme=dark] .colab-df-convert {\n",
              "      background-color: #3B4455;\n",
              "      fill: #D2E3FC;\n",
              "    }\n",
              "\n",
              "    [theme=dark] .colab-df-convert:hover {\n",
              "      background-color: #434B5C;\n",
              "      box-shadow: 0px 1px 3px 1px rgba(0, 0, 0, 0.15);\n",
              "      filter: drop-shadow(0px 1px 2px rgba(0, 0, 0, 0.3));\n",
              "      fill: #FFFFFF;\n",
              "    }\n",
              "  </style>\n",
              "\n",
              "      <script>\n",
              "        const buttonEl =\n",
              "          document.querySelector('#df-dca6355e-8b9b-4344-9d56-7fa8ea720efa button.colab-df-convert');\n",
              "        buttonEl.style.display =\n",
              "          google.colab.kernel.accessAllowed ? 'block' : 'none';\n",
              "\n",
              "        async function convertToInteractive(key) {\n",
              "          const element = document.querySelector('#df-dca6355e-8b9b-4344-9d56-7fa8ea720efa');\n",
              "          const dataTable =\n",
              "            await google.colab.kernel.invokeFunction('convertToInteractive',\n",
              "                                                     [key], {});\n",
              "          if (!dataTable) return;\n",
              "\n",
              "          const docLinkHtml = 'Like what you see? Visit the ' +\n",
              "            '<a target=\"_blank\" href=https://colab.research.google.com/notebooks/data_table.ipynb>data table notebook</a>'\n",
              "            + ' to learn more about interactive tables.';\n",
              "          element.innerHTML = '';\n",
              "          dataTable['output_type'] = 'display_data';\n",
              "          await google.colab.output.renderOutput(dataTable, element);\n",
              "          const docLink = document.createElement('div');\n",
              "          docLink.innerHTML = docLinkHtml;\n",
              "          element.appendChild(docLink);\n",
              "        }\n",
              "      </script>\n",
              "    </div>\n",
              "  </div>\n",
              "  "
            ],
            "text/plain": [
              "             F_ID\n",
              "count  766.000000\n",
              "mean   381.873368\n",
              "std    219.031358\n",
              "min      1.000000\n",
              "25%    192.250000\n",
              "50%    383.500000\n",
              "75%    572.750000\n",
              "max    756.000000"
            ]
          },
          "metadata": {},
          "execution_count": 5
        }
      ]
    },
    {
      "cell_type": "markdown",
      "source": [
        "## Nepal Municipality plotting"
      ],
      "metadata": {
        "id": "4VhasbjqO4kd"
      }
    },
    {
      "cell_type": "code",
      "source": [
        "munis.plot()"
      ],
      "metadata": {
        "colab": {
          "base_uri": "https://localhost:8080/",
          "height": 257
        },
        "id": "CDmvS-cuFLp0",
        "outputId": "4e624ffb-4f37-4ac3-b93a-5fd967627df0"
      },
      "execution_count": 6,
      "outputs": [
        {
          "output_type": "execute_result",
          "data": {
            "text/plain": [
              "<matplotlib.axes._subplots.AxesSubplot at 0x7f817a70ab10>"
            ]
          },
          "metadata": {},
          "execution_count": 6
        },
        {
          "output_type": "display_data",
          "data": {
            "image/png": "[encoded data removed]",
            "text/plain": [
              "<Figure size 432x288 with 1 Axes>"
            ]
          },
          "metadata": {
            "needs_background": "light"
          }
        }
      ]
    },
    {
      "cell_type": "markdown",
      "source": [
        "## Selecting required columns"
      ],
      "metadata": {
        "id": "uJJ8lA7lO9_D"
      }
    },
    {
      "cell_type": "code",
      "source": [
        "municipalities = munis[[\"NAME\", \"LEVEL\", \"DISTRICT\", \"geometry\"]].set_index(\"DISTRICT\")"
      ],
      "metadata": {
        "id": "BcbmBGwqJ57t"
      },
      "execution_count": 7,
      "outputs": []
    },
    {
      "cell_type": "code",
      "source": [
        "municipalities.head()"
      ],
      "metadata": {
        "colab": {
          "base_uri": "https://localhost:8080/",
          "height": 237
        },
        "id": "v9sVhKe7Kkq1",
        "outputId": "229ddf41-ab0f-40a0-e142-98d161c94188"
      },
      "execution_count": 8,
      "outputs": [
        {
          "output_type": "execute_result",
          "data": {
            "text/html": [
              "\n",
              "  <div id=\"df-0e1c7b90-cd77-4f52-83f4-24acbfd36ebf\">\n",
              "    <div class=\"colab-df-container\">\n",
              "      <div>\n",
              "<style scoped>\n",
              "    .dataframe tbody tr th:only-of-type {\n",
              "        vertical-align: middle;\n",
              "    }\n",
              "\n",
              "    .dataframe tbody tr th {\n",
              "        vertical-align: top;\n",
              "    }\n",
              "\n",
              "    .dataframe thead th {\n",
              "        text-align: right;\n",
              "    }\n",
              "</style>\n",
              "<table border=\"1\" class=\"dataframe\">\n",
              "  <thead>\n",
              "    <tr style=\"text-align: right;\">\n",
              "      <th></th>\n",
              "      <th>NAME</th>\n",
              "      <th>LEVEL</th>\n",
              "      <th>geometry</th>\n",
              "    </tr>\n",
              "    <tr>\n",
              "      <th>DISTRICT</th>\n",
              "      <th></th>\n",
              "      <th></th>\n",
              "      <th></th>\n",
              "    </tr>\n",
              "  </thead>\n",
              "  <tbody>\n",
              "    <tr>\n",
              "      <th>Bhaktapur</th>\n",
              "      <td>Bhaktapur</td>\n",
              "      <td>Nagarpalika</td>\n",
              "      <td>POLYGON ((85.44459 27.66441, 85.44378 27.66359...</td>\n",
              "    </tr>\n",
              "    <tr>\n",
              "      <th>Bhaktapur</th>\n",
              "      <td>Madhyapur Thimi</td>\n",
              "      <td>Nagarpalika</td>\n",
              "      <td>POLYGON ((85.36314 27.66892, 85.35419 27.66769...</td>\n",
              "    </tr>\n",
              "    <tr>\n",
              "      <th>Kathmandu</th>\n",
              "      <td>Kathmandu</td>\n",
              "      <td>Mahanagarpalika</td>\n",
              "      <td>POLYGON ((85.28577 27.68983, 85.28414 27.69270...</td>\n",
              "    </tr>\n",
              "    <tr>\n",
              "      <th>Kathmandu</th>\n",
              "      <td>Kirtipur</td>\n",
              "      <td>Nagarpalika</td>\n",
              "      <td>POLYGON ((85.25319 27.64555, 85.25238 27.65416...</td>\n",
              "    </tr>\n",
              "    <tr>\n",
              "      <th>Makwanpur</th>\n",
              "      <td>Chitwan National Park</td>\n",
              "      <td>national-park</td>\n",
              "      <td>POLYGON ((84.71727 27.56355, 84.71727 27.55945...</td>\n",
              "    </tr>\n",
              "  </tbody>\n",
              "</table>\n",
              "</div>\n",
              "      <button class=\"colab-df-convert\" onclick=\"convertToInteractive('df-0e1c7b90-cd77-4f52-83f4-24acbfd36ebf')\"\n",
              "              title=\"Convert this dataframe to an interactive table.\"\n",
              "              style=\"display:none;\">\n",
              "        \n",
              "  <svg xmlns=\"http://www.w3.org/2000/svg\" height=\"24px\"viewBox=\"0 0 24 24\"\n",
              "       width=\"24px\">\n",
              "    <path d=\"M0 0h24v24H0V0z\" fill=\"none\"/>\n",
              "    <path d=\"M18.56 5.44l.94 2.06.94-2.06 2.06-.94-2.06-.94-.94-2.06-.94 2.06-2.06.94zm-11 1L8.5 8.5l.94-2.06 2.06-.94-2.06-.94L8.5 2.5l-.94 2.06-2.06.94zm10 10l.94 2.06.94-2.06 2.06-.94-2.06-.94-.94-2.06-.94 2.06-2.06.94z\"/><path d=\"M17.41 7.96l-1.37-1.37c-.4-.4-.92-.59-1.43-.59-.52 0-1.04.2-1.43.59L10.3 9.45l-7.72 7.72c-.78.78-.78 2.05 0 2.83L4 21.41c.39.39.9.59 1.41.59.51 0 1.02-.2 1.41-.59l7.78-7.78 2.81-2.81c.8-.78.8-2.07 0-2.86zM5.41 20L4 18.59l7.72-7.72 1.47 1.35L5.41 20z\"/>\n",
              "  </svg>\n",
              "      </button>\n",
              "      \n",
              "  <style>\n",
              "    .colab-df-container {\n",
              "      display:flex;\n",
              "      flex-wrap:wrap;\n",
              "      gap: 12px;\n",
              "    }\n",
              "\n",
              "    .colab-df-convert {\n",
              "      background-color: #E8F0FE;\n",
              "      border: none;\n",
              "      border-radius: 50%;\n",
              "      cursor: pointer;\n",
              "      display: none;\n",
              "      fill: #1967D2;\n",
              "      height: 32px;\n",
              "      padding: 0 0 0 0;\n",
              "      width: 32px;\n",
              "    }\n",
              "\n",
              "    .colab-df-convert:hover {\n",
              "      background-color: #E2EBFA;\n",
              "      box-shadow: 0px 1px 2px rgba(60, 64, 67, 0.3), 0px 1px 3px 1px rgba(60, 64, 67, 0.15);\n",
              "      fill: #174EA6;\n",
              "    }\n",
              "\n",
              "    [theme=dark] .colab-df-convert {\n",
              "      background-color: #3B4455;\n",
              "      fill: #D2E3FC;\n",
              "    }\n",
              "\n",
              "    [theme=dark] .colab-df-convert:hover {\n",
              "      background-color: #434B5C;\n",
              "      box-shadow: 0px 1px 3px 1px rgba(0, 0, 0, 0.15);\n",
              "      filter: drop-shadow(0px 1px 2px rgba(0, 0, 0, 0.3));\n",
              "      fill: #FFFFFF;\n",
              "    }\n",
              "  </style>\n",
              "\n",
              "      <script>\n",
              "        const buttonEl =\n",
              "          document.querySelector('#df-0e1c7b90-cd77-4f52-83f4-24acbfd36ebf button.colab-df-convert');\n",
              "        buttonEl.style.display =\n",
              "          google.colab.kernel.accessAllowed ? 'block' : 'none';\n",
              "\n",
              "        async function convertToInteractive(key) {\n",
              "          const element = document.querySelector('#df-0e1c7b90-cd77-4f52-83f4-24acbfd36ebf');\n",
              "          const dataTable =\n",
              "            await google.colab.kernel.invokeFunction('convertToInteractive',\n",
              "                                                     [key], {});\n",
              "          if (!dataTable) return;\n",
              "\n",
              "          const docLinkHtml = 'Like what you see? Visit the ' +\n",
              "            '<a target=\"_blank\" href=https://colab.research.google.com/notebooks/data_table.ipynb>data table notebook</a>'\n",
              "            + ' to learn more about interactive tables.';\n",
              "          element.innerHTML = '';\n",
              "          dataTable['output_type'] = 'display_data';\n",
              "          await google.colab.output.renderOutput(dataTable, element);\n",
              "          const docLink = document.createElement('div');\n",
              "          docLink.innerHTML = docLinkHtml;\n",
              "          element.appendChild(docLink);\n",
              "        }\n",
              "      </script>\n",
              "    </div>\n",
              "  </div>\n",
              "  "
            ],
            "text/plain": [
              "                            NAME            LEVEL  \\\n",
              "DISTRICT                                            \n",
              "Bhaktapur              Bhaktapur      Nagarpalika   \n",
              "Bhaktapur        Madhyapur Thimi      Nagarpalika   \n",
              "Kathmandu              Kathmandu  Mahanagarpalika   \n",
              "Kathmandu               Kirtipur      Nagarpalika   \n",
              "Makwanpur  Chitwan National Park    national-park   \n",
              "\n",
              "                                                    geometry  \n",
              "DISTRICT                                                      \n",
              "Bhaktapur  POLYGON ((85.44459 27.66441, 85.44378 27.66359...  \n",
              "Bhaktapur  POLYGON ((85.36314 27.66892, 85.35419 27.66769...  \n",
              "Kathmandu  POLYGON ((85.28577 27.68983, 85.28414 27.69270...  \n",
              "Kathmandu  POLYGON ((85.25319 27.64555, 85.25238 27.65416...  \n",
              "Makwanpur  POLYGON ((84.71727 27.56355, 84.71727 27.55945...  "
            ]
          },
          "metadata": {},
          "execution_count": 8
        }
      ]
    },
    {
      "cell_type": "markdown",
      "source": [
        "## Finding municipality of Nepal from given latitude and longitude"
      ],
      "metadata": {
        "id": "v8DFPTHjPAbr"
      }
    },
    {
      "cell_type": "code",
      "source": [
        "poly = municipalities.geometry[:]\n",
        "chandragiri = Point(85.44459, 27.66441)\n",
        "municipality = municipalities.loc[poly.contains(chandragiri)]\n",
        "municipality"
      ],
      "metadata": {
        "colab": {
          "base_uri": "https://localhost:8080/",
          "height": 112
        },
        "id": "c1fLMXriLF0R",
        "outputId": "ee8c02b7-330e-4eec-d117-8086806895b0"
      },
      "execution_count": 9,
      "outputs": [
        {
          "output_type": "execute_result",
          "data": {
            "text/html": [
              "\n",
              "  <div id=\"df-cdfa3d6e-3245-43ce-bfa9-ce08b35ce0bb\">\n",
              "    <div class=\"colab-df-container\">\n",
              "      <div>\n",
              "<style scoped>\n",
              "    .dataframe tbody tr th:only-of-type {\n",
              "        vertical-align: middle;\n",
              "    }\n",
              "\n",
              "    .dataframe tbody tr th {\n",
              "        vertical-align: top;\n",
              "    }\n",
              "\n",
              "    .dataframe thead th {\n",
              "        text-align: right;\n",
              "    }\n",
              "</style>\n",
              "<table border=\"1\" class=\"dataframe\">\n",
              "  <thead>\n",
              "    <tr style=\"text-align: right;\">\n",
              "      <th></th>\n",
              "      <th>NAME</th>\n",
              "      <th>LEVEL</th>\n",
              "      <th>geometry</th>\n",
              "    </tr>\n",
              "    <tr>\n",
              "      <th>DISTRICT</th>\n",
              "      <th></th>\n",
              "      <th></th>\n",
              "      <th></th>\n",
              "    </tr>\n",
              "  </thead>\n",
              "  <tbody>\n",
              "    <tr>\n",
              "      <th>Bhaktapur</th>\n",
              "      <td>Bhaktapur</td>\n",
              "      <td>Nagarpalika</td>\n",
              "      <td>POLYGON ((85.44459 27.66441, 85.44378 27.66359...</td>\n",
              "    </tr>\n",
              "  </tbody>\n",
              "</table>\n",
              "</div>\n",
              "      <button class=\"colab-df-convert\" onclick=\"convertToInteractive('df-cdfa3d6e-3245-43ce-bfa9-ce08b35ce0bb')\"\n",
              "              title=\"Convert this dataframe to an interactive table.\"\n",
              "              style=\"display:none;\">\n",
              "        \n",
              "  <svg xmlns=\"http://www.w3.org/2000/svg\" height=\"24px\"viewBox=\"0 0 24 24\"\n",
              "       width=\"24px\">\n",
              "    <path d=\"M0 0h24v24H0V0z\" fill=\"none\"/>\n",
              "    <path d=\"M18.56 5.44l.94 2.06.94-2.06 2.06-.94-2.06-.94-.94-2.06-.94 2.06-2.06.94zm-11 1L8.5 8.5l.94-2.06 2.06-.94-2.06-.94L8.5 2.5l-.94 2.06-2.06.94zm10 10l.94 2.06.94-2.06 2.06-.94-2.06-.94-.94-2.06-.94 2.06-2.06.94z\"/><path d=\"M17.41 7.96l-1.37-1.37c-.4-.4-.92-.59-1.43-.59-.52 0-1.04.2-1.43.59L10.3 9.45l-7.72 7.72c-.78.78-.78 2.05 0 2.83L4 21.41c.39.39.9.59 1.41.59.51 0 1.02-.2 1.41-.59l7.78-7.78 2.81-2.81c.8-.78.8-2.07 0-2.86zM5.41 20L4 18.59l7.72-7.72 1.47 1.35L5.41 20z\"/>\n",
              "  </svg>\n",
              "      </button>\n",
              "      \n",
              "  <style>\n",
              "    .colab-df-container {\n",
              "      display:flex;\n",
              "      flex-wrap:wrap;\n",
              "      gap: 12px;\n",
              "    }\n",
              "\n",
              "    .colab-df-convert {\n",
              "      background-color: #E8F0FE;\n",
              "      border: none;\n",
              "      border-radius: 50%;\n",
              "      cursor: pointer;\n",
              "      display: none;\n",
              "      fill: #1967D2;\n",
              "      height: 32px;\n",
              "      padding: 0 0 0 0;\n",
              "      width: 32px;\n",
              "    }\n",
              "\n",
              "    .colab-df-convert:hover {\n",
              "      background-color: #E2EBFA;\n",
              "      box-shadow: 0px 1px 2px rgba(60, 64, 67, 0.3), 0px 1px 3px 1px rgba(60, 64, 67, 0.15);\n",
              "      fill: #174EA6;\n",
              "    }\n",
              "\n",
              "    [theme=dark] .colab-df-convert {\n",
              "      background-color: #3B4455;\n",
              "      fill: #D2E3FC;\n",
              "    }\n",
              "\n",
              "    [theme=dark] .colab-df-convert:hover {\n",
              "      background-color: #434B5C;\n",
              "      box-shadow: 0px 1px 3px 1px rgba(0, 0, 0, 0.15);\n",
              "      filter: drop-shadow(0px 1px 2px rgba(0, 0, 0, 0.3));\n",
              "      fill: #FFFFFF;\n",
              "    }\n",
              "  </style>\n",
              "\n",
              "      <script>\n",
              "        const buttonEl =\n",
              "          document.querySelector('#df-cdfa3d6e-3245-43ce-bfa9-ce08b35ce0bb button.colab-df-convert');\n",
              "        buttonEl.style.display =\n",
              "          google.colab.kernel.accessAllowed ? 'block' : 'none';\n",
              "\n",
              "        async function convertToInteractive(key) {\n",
              "          const element = document.querySelector('#df-cdfa3d6e-3245-43ce-bfa9-ce08b35ce0bb');\n",
              "          const dataTable =\n",
              "            await google.colab.kernel.invokeFunction('convertToInteractive',\n",
              "                                                     [key], {});\n",
              "          if (!dataTable) return;\n",
              "\n",
              "          const docLinkHtml = 'Like what you see? Visit the ' +\n",
              "            '<a target=\"_blank\" href=https://colab.research.google.com/notebooks/data_table.ipynb>data table notebook</a>'\n",
              "            + ' to learn more about interactive tables.';\n",
              "          element.innerHTML = '';\n",
              "          dataTable['output_type'] = 'display_data';\n",
              "          await google.colab.output.renderOutput(dataTable, element);\n",
              "          const docLink = document.createElement('div');\n",
              "          docLink.innerHTML = docLinkHtml;\n",
              "          element.appendChild(docLink);\n",
              "        }\n",
              "      </script>\n",
              "    </div>\n",
              "  </div>\n",
              "  "
            ],
            "text/plain": [
              "                NAME        LEVEL  \\\n",
              "DISTRICT                            \n",
              "Bhaktapur  Bhaktapur  Nagarpalika   \n",
              "\n",
              "                                                    geometry  \n",
              "DISTRICT                                                      \n",
              "Bhaktapur  POLYGON ((85.44459 27.66441, 85.44378 27.66359...  "
            ]
          },
          "metadata": {},
          "execution_count": 9
        }
      ]
    }
  ]
}